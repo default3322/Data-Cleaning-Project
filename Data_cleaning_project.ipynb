{
 "cells": [
  {
   "cell_type": "code",
   "execution_count": 1,
   "metadata": {},
   "outputs": [],
   "source": [
    "import numpy as np\n",
    "import pandas as pd\n",
    "\n",
    "tafe_survey = pd.read_csv('tafe_survey.csv' , na_values = 'Not Satated')\n",
    "dete_survey = pd.read_csv('dete_survey.csv' , na_values = 'Not Satated')\n"
   ]
  },
  {
   "cell_type": "markdown",
   "metadata": {},
   "source": [
    "# A look into the Data\n",
    "\n",
    "After reading the datasets the amount of Data at hand is overwhelming. both the `tafe survey` and the `dete survey` have many columns holding diffrent information contributing to the topic we're investigating. Aside from some the DETE columns being phrased as questions as to describe them precisely, we are left with many columns that we don't fully understand which we might resort to dropping so we don't misinterpret any of it.\n",
    "\n",
    "We also observe that there are many missing values from many rows which require further investigation to determine whether they can be filled or if we need to drop them all together. We've determined that the missing values should be updated with the value \"Not Stated\".\n",
    "\n",
    "The columns which we'll rely on to answer most questions are :\n",
    "\n",
    "DETE Survey :\n",
    "\n",
    " - `ID` :  an id used to identify the participant.\n",
    " - `Separation Type` : The reason why the employment ended.\n",
    " - `Cease Date` : The year or month the employment ended.\n",
    " - `DETE Start Date` : The year the person began employment with DETE.\n",
    " \n",
    "TAFE Survey :\n",
    "\n",
    " - `Record ID` : an id used to identify the participant.\n",
    " - `Reason for ceasing employment` : the reason why the employment ended.\n",
    " - `LengthofServiceOverall. Overall length of Service at Institute (in years)` : the length of employment."
   ]
  },
  {
   "cell_type": "code",
   "execution_count": 2,
   "metadata": {
    "collapsed": true
   },
   "outputs": [
    {
     "name": "stdout",
     "output_type": "stream",
     "text": [
      "NaN    799\n",
      "Yes     23\n",
      "Name: Disability, dtype: int64 \n",
      "\n",
      "NaN    790\n",
      "Yes     32\n",
      "Name: NESB, dtype: int64 \n",
      "\n",
      "NaN    815\n",
      "Yes      7\n",
      "Name: South Sea, dtype: int64 \n",
      "\n",
      "NaN    819\n",
      "Yes      3\n",
      "Name: Torres Strait, dtype: int64 \n",
      "\n",
      "NaN    806\n",
      "Yes     16\n",
      "Name: Aboriginal, dtype: int64 \n",
      "\n"
     ]
    }
   ],
   "source": [
    "for col in [\"Disability\" , \"NESB\" , \"South Sea\" , \"Torres Strait\" , \"Aboriginal\"]:\n",
    "    print(dete_survey[col].value_counts(dropna = False) , \"\\n\")"
   ]
  },
  {
   "cell_type": "code",
   "execution_count": 3,
   "metadata": {
    "collapsed": true
   },
   "outputs": [
    {
     "data": {
      "text/plain": [
       "Record ID                                                                                                                                                         0.000000\n",
       "Institute                                                                                                                                                         0.000000\n",
       "WorkArea                                                                                                                                                          0.000000\n",
       "CESSATION YEAR                                                                                                                                                    0.997151\n",
       "Reason for ceasing employment                                                                                                                                     0.142450\n",
       "Contributing Factors. Career Move - Public Sector                                                                                                                37.749288\n",
       "Contributing Factors. Career Move - Private Sector                                                                                                               37.749288\n",
       "Contributing Factors. Career Move - Self-employment                                                                                                              37.749288\n",
       "Contributing Factors. Ill Health                                                                                                                                 37.749288\n",
       "Contributing Factors. Maternity/Family                                                                                                                           37.749288\n",
       "Contributing Factors. Dissatisfaction                                                                                                                            37.749288\n",
       "Contributing Factors. Job Dissatisfaction                                                                                                                        37.749288\n",
       "Contributing Factors. Interpersonal Conflict                                                                                                                     37.749288\n",
       "Contributing Factors. Study                                                                                                                                      37.749288\n",
       "Contributing Factors. Travel                                                                                                                                     37.749288\n",
       "Contributing Factors. Other                                                                                                                                      37.749288\n",
       "Contributing Factors. NONE                                                                                                                                       37.749288\n",
       "Main Factor. Which of these was the main factor for leaving?                                                                                                     83.903134\n",
       "InstituteViews. Topic:1. I feel the senior leadership had a clear vision and direction                                                                           13.390313\n",
       "InstituteViews. Topic:2. I was given access to skills training to help me do my job better                                                                       12.678063\n",
       "InstituteViews. Topic:3. I was given adequate opportunities for personal development                                                                             13.105413\n",
       "InstituteViews. Topic:4. I was given adequate opportunities for promotion within %Institute]Q25LBL%                                                              13.390313\n",
       "InstituteViews. Topic:5. I felt the salary for the job was right for the responsibilities I had                                                                  12.393162\n",
       "InstituteViews. Topic:6. The organisation recognised when staff did good work                                                                                    13.532764\n",
       "InstituteViews. Topic:7. Management was generally supportive of me                                                                                               12.535613\n",
       "InstituteViews. Topic:8. Management was generally supportive of my team                                                                                          13.390313\n",
       "InstituteViews. Topic:9. I was kept informed of the changes in the organisation which would affect me                                                            13.105413\n",
       "InstituteViews. Topic:10. Staff morale was positive within the Institute                                                                                         14.245014\n",
       "InstituteViews. Topic:11. If I had a workplace issue it was dealt with quickly                                                                                   14.387464\n",
       "InstituteViews. Topic:12. If I had a workplace issue it was dealt with efficiently                                                                               14.957265\n",
       "                                                                                                                                                                   ...    \n",
       "WorkUnitViews. Topic:25. My job allowed me to balance the demands of work and family to my satisfaction                                                          12.962963\n",
       "WorkUnitViews. Topic:26. My supervisor gave me adequate personal recognition and feedback on my performance                                                      13.675214\n",
       "WorkUnitViews. Topic:27. My working environment was satisfactory e.g. sufficient space, good lighting, suitable seating and working area                         13.105413\n",
       "WorkUnitViews. Topic:28. I was given the opportunity to mentor and coach others in order for me to pass on my skills and knowledge prior to my cessation date    13.247863\n",
       "WorkUnitViews. Topic:29. There was adequate communication between staff in my unit                                                                               14.102564\n",
       "WorkUnitViews. Topic:30. Staff morale was positive within my work unit                                                                                           13.675214\n",
       "Induction. Did you undertake Workplace Induction?                                                                                                                11.823362\n",
       "InductionInfo. Topic:Did you undertake a Corporate Induction?                                                                                                    38.461538\n",
       "InductionInfo. Topic:Did you undertake a Institute Induction?                                                                                                    31.196581\n",
       "InductionInfo. Topic: Did you undertake Team Induction?                                                                                                          37.321937\n",
       "InductionInfo. Face to Face Topic:Did you undertake a Corporate Induction; Category:How it was conducted?                                                        20.940171\n",
       "InductionInfo. On-line Topic:Did you undertake a Corporate Induction; Category:How it was conducted?                                                             20.940171\n",
       "InductionInfo. Induction Manual Topic:Did you undertake a Corporate Induction?                                                                                   20.940171\n",
       "InductionInfo. Face to Face Topic:Did you undertake a Institute Induction?                                                                                       24.501425\n",
       "InductionInfo. On-line Topic:Did you undertake a Institute Induction?                                                                                            20.940171\n",
       "InductionInfo. Induction Manual Topic:Did you undertake a Institute Induction?                                                                                   21.225071\n",
       "InductionInfo. Face to Face Topic: Did you undertake Team Induction; Category?                                                                                   20.940171\n",
       "InductionInfo. On-line Topic: Did you undertake Team Induction?process you undertook and how it was conducted.]                                                  20.940171\n",
       "InductionInfo. Induction Manual Topic: Did you undertake Team Induction?                                                                                         20.940171\n",
       "Workplace. Topic:Did you and your Manager develop a Performance and Professional Development Plan (PPDP)?                                                        13.390313\n",
       "Workplace. Topic:Does your workplace promote a work culture free from all forms of unlawful discrimination?                                                      15.384615\n",
       "Workplace. Topic:Does your workplace promote and practice the principles of employment equity?                                                                   16.381766\n",
       "Workplace. Topic:Does your workplace value the diversity of its employees?                                                                                       16.524217\n",
       "Workplace. Topic:Would you recommend the Institute as an employer to others?                                                                                     17.236467\n",
       "Gender. What is your Gender?                                                                                                                                     15.099715\n",
       "CurrentAge. Current Age                                                                                                                                          15.099715\n",
       "Employment Type. Employment Type                                                                                                                                 15.099715\n",
       "Classification. Classification                                                                                                                                   15.099715\n",
       "LengthofServiceOverall. Overall Length of Service at Institute (in years)                                                                                        15.099715\n",
       "LengthofServiceCurrent. Length of Service at current workplace (in years)                                                                                        15.099715\n",
       "Length: 72, dtype: float64"
      ]
     },
     "execution_count": 3,
     "metadata": {},
     "output_type": "execute_result"
    }
   ],
   "source": [
    "tafe_missing_percentage = tafe_survey.isnull().sum() / tafe_survey.shape[0] * 100\n",
    "tafe_missing_percentage"
   ]
  },
  {
   "cell_type": "markdown",
   "metadata": {
    "collapsed": true
   },
   "source": [
    "We'll start by investigating whether employees who've been there were less likely to experience dissatisfaction than employees who've worked for a short period of time, in other words :\n",
    "\n",
    "**Does the time spent employed affect the likeliness of resignition due to dissatisfaction**\n",
    "\n",
    "\n",
    "We'll start by dropping columns we will not be needing for this analysis, and then we'll go through the data to find out."
   ]
  },
  {
   "cell_type": "code",
   "execution_count": 4,
   "metadata": {},
   "outputs": [],
   "source": [
    "dete_survey = pd.read_csv('dete_survey.csv',\n",
    "                          na_values=\"Not Stated\")\n",
    "dete_survey_updated = dete_survey.drop(dete_survey.columns[28:49],\n",
    "                                      axis=1)\n",
    "tafe_survey = pd.read_csv('tafe_survey.csv',\n",
    "                         na_values=\"Not Stated\")\n",
    "tafe_survey_updated = tafe_survey.drop(tafe_survey.columns[17:66],\n",
    "                                     axis=1)"
   ]
  },
  {
   "cell_type": "markdown",
   "metadata": {},
   "source": [
    "## Updates to the DataFrames\n",
    "\n",
    "We re-read the data and replaced all the missing values by `Not Stated to` which was more sensible to the columns we were about to use since they all mostly had one value, we also dropped all columns we will not be using because they are irrelevant to our research."
   ]
  },
  {
   "cell_type": "code",
   "execution_count": 5,
   "metadata": {},
   "outputs": [
    {
     "data": {
      "text/plain": [
       "Index(['id', 'separationtype', 'cease_date', 'dete_start_date',\n",
       "       'role_start_date', 'position', 'classification', 'region',\n",
       "       'business_unit', 'employment_status', 'career_move_to_public_sector',\n",
       "       'career_move_to_private_sector', 'interpersonal_conflicts',\n",
       "       'job_dissatisfaction', 'dissatisfaction_with_the_department',\n",
       "       'physical_work_environment', 'lack_of_recognition',\n",
       "       'lack_of_job_security', 'work_location', 'employment_conditions',\n",
       "       'maternity/family', 'relocation', 'study/travel', 'ill_health',\n",
       "       'traumatic_incident', 'work_life_balance', 'workload',\n",
       "       'none_of_the_above', 'gender', 'age', 'aboriginal', 'torres_strait',\n",
       "       'south_sea', 'disability', 'nesb'],\n",
       "      dtype='object')"
      ]
     },
     "execution_count": 5,
     "metadata": {},
     "output_type": "execute_result"
    }
   ],
   "source": [
    "def column_cleaner(col):\n",
    "    col = col.lower()\n",
    "    col = col.strip()\n",
    "    col = col.replace(' ','_')\n",
    "    return col\n",
    "new_names = []\n",
    "for col in dete_survey_updated.columns:\n",
    "    new_names.append(column_cleaner(col))\n",
    "dete_survey_updated.columns = new_names\n",
    "dete_survey_updated.columns"
   ]
  },
  {
   "cell_type": "code",
   "execution_count": 6,
   "metadata": {},
   "outputs": [
    {
     "data": {
      "text/html": [
       "<div>\n",
       "<style scoped>\n",
       "    .dataframe tbody tr th:only-of-type {\n",
       "        vertical-align: middle;\n",
       "    }\n",
       "\n",
       "    .dataframe tbody tr th {\n",
       "        vertical-align: top;\n",
       "    }\n",
       "\n",
       "    .dataframe thead th {\n",
       "        text-align: right;\n",
       "    }\n",
       "</style>\n",
       "<table border=\"1\" class=\"dataframe\">\n",
       "  <thead>\n",
       "    <tr style=\"text-align: right;\">\n",
       "      <th></th>\n",
       "      <th>id</th>\n",
       "      <th>Institute</th>\n",
       "      <th>WorkArea</th>\n",
       "      <th>cease_date</th>\n",
       "      <th>separationtype</th>\n",
       "      <th>Contributing Factors. Career Move - Public Sector</th>\n",
       "      <th>Contributing Factors. Career Move - Private Sector</th>\n",
       "      <th>Contributing Factors. Career Move - Self-employment</th>\n",
       "      <th>Contributing Factors. Ill Health</th>\n",
       "      <th>Contributing Factors. Maternity/Family</th>\n",
       "      <th>...</th>\n",
       "      <th>Contributing Factors. Study</th>\n",
       "      <th>Contributing Factors. Travel</th>\n",
       "      <th>Contributing Factors. Other</th>\n",
       "      <th>Contributing Factors. NONE</th>\n",
       "      <th>gender</th>\n",
       "      <th>age</th>\n",
       "      <th>employment_status</th>\n",
       "      <th>position</th>\n",
       "      <th>institute_service</th>\n",
       "      <th>LengthofServiceCurrent. Length of Service at current workplace (in years)</th>\n",
       "    </tr>\n",
       "  </thead>\n",
       "  <tbody>\n",
       "    <tr>\n",
       "      <th>0</th>\n",
       "      <td>6.341330e+17</td>\n",
       "      <td>Southern Queensland Institute of TAFE</td>\n",
       "      <td>Non-Delivery (corporate)</td>\n",
       "      <td>2010.0</td>\n",
       "      <td>Contract Expired</td>\n",
       "      <td>NaN</td>\n",
       "      <td>NaN</td>\n",
       "      <td>NaN</td>\n",
       "      <td>NaN</td>\n",
       "      <td>NaN</td>\n",
       "      <td>...</td>\n",
       "      <td>NaN</td>\n",
       "      <td>NaN</td>\n",
       "      <td>NaN</td>\n",
       "      <td>NaN</td>\n",
       "      <td>Female</td>\n",
       "      <td>26  30</td>\n",
       "      <td>Temporary Full-time</td>\n",
       "      <td>Administration (AO)</td>\n",
       "      <td>1-2</td>\n",
       "      <td>1-2</td>\n",
       "    </tr>\n",
       "    <tr>\n",
       "      <th>1</th>\n",
       "      <td>6.341337e+17</td>\n",
       "      <td>Mount Isa Institute of TAFE</td>\n",
       "      <td>Non-Delivery (corporate)</td>\n",
       "      <td>2010.0</td>\n",
       "      <td>Retirement</td>\n",
       "      <td>-</td>\n",
       "      <td>-</td>\n",
       "      <td>-</td>\n",
       "      <td>-</td>\n",
       "      <td>-</td>\n",
       "      <td>...</td>\n",
       "      <td>-</td>\n",
       "      <td>Travel</td>\n",
       "      <td>-</td>\n",
       "      <td>-</td>\n",
       "      <td>NaN</td>\n",
       "      <td>NaN</td>\n",
       "      <td>NaN</td>\n",
       "      <td>NaN</td>\n",
       "      <td>NaN</td>\n",
       "      <td>NaN</td>\n",
       "    </tr>\n",
       "    <tr>\n",
       "      <th>2</th>\n",
       "      <td>6.341388e+17</td>\n",
       "      <td>Mount Isa Institute of TAFE</td>\n",
       "      <td>Delivery (teaching)</td>\n",
       "      <td>2010.0</td>\n",
       "      <td>Retirement</td>\n",
       "      <td>-</td>\n",
       "      <td>-</td>\n",
       "      <td>-</td>\n",
       "      <td>-</td>\n",
       "      <td>-</td>\n",
       "      <td>...</td>\n",
       "      <td>-</td>\n",
       "      <td>-</td>\n",
       "      <td>-</td>\n",
       "      <td>NONE</td>\n",
       "      <td>NaN</td>\n",
       "      <td>NaN</td>\n",
       "      <td>NaN</td>\n",
       "      <td>NaN</td>\n",
       "      <td>NaN</td>\n",
       "      <td>NaN</td>\n",
       "    </tr>\n",
       "    <tr>\n",
       "      <th>3</th>\n",
       "      <td>6.341399e+17</td>\n",
       "      <td>Mount Isa Institute of TAFE</td>\n",
       "      <td>Non-Delivery (corporate)</td>\n",
       "      <td>2010.0</td>\n",
       "      <td>Resignation</td>\n",
       "      <td>-</td>\n",
       "      <td>-</td>\n",
       "      <td>-</td>\n",
       "      <td>-</td>\n",
       "      <td>-</td>\n",
       "      <td>...</td>\n",
       "      <td>-</td>\n",
       "      <td>Travel</td>\n",
       "      <td>-</td>\n",
       "      <td>-</td>\n",
       "      <td>NaN</td>\n",
       "      <td>NaN</td>\n",
       "      <td>NaN</td>\n",
       "      <td>NaN</td>\n",
       "      <td>NaN</td>\n",
       "      <td>NaN</td>\n",
       "    </tr>\n",
       "    <tr>\n",
       "      <th>4</th>\n",
       "      <td>6.341466e+17</td>\n",
       "      <td>Southern Queensland Institute of TAFE</td>\n",
       "      <td>Delivery (teaching)</td>\n",
       "      <td>2010.0</td>\n",
       "      <td>Resignation</td>\n",
       "      <td>-</td>\n",
       "      <td>Career Move - Private Sector</td>\n",
       "      <td>-</td>\n",
       "      <td>-</td>\n",
       "      <td>-</td>\n",
       "      <td>...</td>\n",
       "      <td>-</td>\n",
       "      <td>-</td>\n",
       "      <td>-</td>\n",
       "      <td>-</td>\n",
       "      <td>Male</td>\n",
       "      <td>41  45</td>\n",
       "      <td>Permanent Full-time</td>\n",
       "      <td>Teacher (including LVT)</td>\n",
       "      <td>3-4</td>\n",
       "      <td>3-4</td>\n",
       "    </tr>\n",
       "  </tbody>\n",
       "</table>\n",
       "<p>5 rows × 23 columns</p>\n",
       "</div>"
      ],
      "text/plain": [
       "             id                              Institute  \\\n",
       "0  6.341330e+17  Southern Queensland Institute of TAFE   \n",
       "1  6.341337e+17            Mount Isa Institute of TAFE   \n",
       "2  6.341388e+17            Mount Isa Institute of TAFE   \n",
       "3  6.341399e+17            Mount Isa Institute of TAFE   \n",
       "4  6.341466e+17  Southern Queensland Institute of TAFE   \n",
       "\n",
       "                   WorkArea  cease_date    separationtype  \\\n",
       "0  Non-Delivery (corporate)      2010.0  Contract Expired   \n",
       "1  Non-Delivery (corporate)      2010.0        Retirement   \n",
       "2       Delivery (teaching)      2010.0        Retirement   \n",
       "3  Non-Delivery (corporate)      2010.0       Resignation   \n",
       "4       Delivery (teaching)      2010.0       Resignation   \n",
       "\n",
       "  Contributing Factors. Career Move - Public Sector  \\\n",
       "0                                               NaN   \n",
       "1                                                 -   \n",
       "2                                                 -   \n",
       "3                                                 -   \n",
       "4                                                 -   \n",
       "\n",
       "  Contributing Factors. Career Move - Private Sector  \\\n",
       "0                                                NaN   \n",
       "1                                                  -   \n",
       "2                                                  -   \n",
       "3                                                  -   \n",
       "4                       Career Move - Private Sector   \n",
       "\n",
       "  Contributing Factors. Career Move - Self-employment  \\\n",
       "0                                                NaN    \n",
       "1                                                  -    \n",
       "2                                                  -    \n",
       "3                                                  -    \n",
       "4                                                  -    \n",
       "\n",
       "  Contributing Factors. Ill Health Contributing Factors. Maternity/Family  \\\n",
       "0                              NaN                                    NaN   \n",
       "1                                -                                      -   \n",
       "2                                -                                      -   \n",
       "3                                -                                      -   \n",
       "4                                -                                      -   \n",
       "\n",
       "   ... Contributing Factors. Study Contributing Factors. Travel  \\\n",
       "0  ...                         NaN                          NaN   \n",
       "1  ...                           -                       Travel   \n",
       "2  ...                           -                            -   \n",
       "3  ...                           -                       Travel   \n",
       "4  ...                           -                            -   \n",
       "\n",
       "  Contributing Factors. Other Contributing Factors. NONE  gender     age  \\\n",
       "0                         NaN                        NaN  Female  26  30   \n",
       "1                           -                          -     NaN     NaN   \n",
       "2                           -                       NONE     NaN     NaN   \n",
       "3                           -                          -     NaN     NaN   \n",
       "4                           -                          -    Male  41  45   \n",
       "\n",
       "     employment_status                 position institute_service  \\\n",
       "0  Temporary Full-time      Administration (AO)               1-2   \n",
       "1                  NaN                      NaN               NaN   \n",
       "2                  NaN                      NaN               NaN   \n",
       "3                  NaN                      NaN               NaN   \n",
       "4  Permanent Full-time  Teacher (including LVT)               3-4   \n",
       "\n",
       "  LengthofServiceCurrent. Length of Service at current workplace (in years)  \n",
       "0                                                1-2                         \n",
       "1                                                NaN                         \n",
       "2                                                NaN                         \n",
       "3                                                NaN                         \n",
       "4                                                3-4                         \n",
       "\n",
       "[5 rows x 23 columns]"
      ]
     },
     "execution_count": 6,
     "metadata": {},
     "output_type": "execute_result"
    }
   ],
   "source": [
    "col_names = {\n",
    "    'Record ID' : 'id',\n",
    "    'CESSATION YEAR' : 'cease_date',\n",
    "    'Reason for ceasing employment' : 'separationtype',\n",
    "    'Gender. What is your Gender?' : 'gender',\n",
    "    'CurrentAge. Current Age' : 'age',\n",
    "    'Employment Type. Employment Type' : 'employment_status',\n",
    "    'Classification. Classification' : 'position',\n",
    "    'LengthofServiceOverall. Overall Length of Service at Institute (in years)' : 'institute_service'\n",
    "}\n",
    "\n",
    "new_tcols = []\n",
    "for col in tafe_survey_updated.columns:\n",
    "    col = col.strip()\n",
    "    new_tcols.append(col)\n",
    "\n",
    "tafe_survey_updated.columns = new_tcols\n",
    "\n",
    "tafe_survey_updated.rename(mapper = col_names,axis=1 , inplace=True)\n",
    "tafe_survey_updated.head()"
   ]
  },
  {
   "cell_type": "code",
   "execution_count": 7,
   "metadata": {},
   "outputs": [
    {
     "name": "stdout",
     "output_type": "stream",
     "text": [
      "tafe separationtype value counts : \n",
      "\n",
      "Resignation                 340\n",
      "Contract Expired            127\n",
      "Retrenchment/ Redundancy    104\n",
      "Retirement                   82\n",
      "Transfer                     25\n",
      "Termination                  23\n",
      "Name: separationtype, dtype: int64\n",
      "----------------------------------------\n",
      "dete separationtype value counts : \n",
      "\n",
      "Age Retirement                          285\n",
      "Resignation-Other reasons               150\n",
      "Resignation-Other employer               91\n",
      "Resignation-Move overseas/interstate     70\n",
      "Voluntary Early Retirement (VER)         67\n",
      "Ill Health Retirement                    61\n",
      "Other                                    49\n",
      "Contract Expired                         34\n",
      "Termination                              15\n",
      "Name: separationtype, dtype: int64\n",
      "----------------------------------------\n"
     ]
    }
   ],
   "source": [
    "print(\"tafe separationtype value counts : \\n\")\n",
    "print(tafe_survey_updated['separationtype'].value_counts())\n",
    "print('-'*40)\n",
    "\n",
    "print(\"dete separationtype value counts : \\n\")\n",
    "print(dete_survey_updated['separationtype'].value_counts())\n",
    "print('-'*40)"
   ]
  },
  {
   "cell_type": "code",
   "execution_count": 8,
   "metadata": {},
   "outputs": [
    {
     "name": "stdout",
     "output_type": "stream",
     "text": [
      "The number of resignations in the dete survey is :  311\n",
      "The number of resignations in the tafe survey is :  340\n"
     ]
    }
   ],
   "source": [
    "dete_resignations = dete_survey_updated[dete_survey_updated['separationtype'].str.contains(\"Resignation\", regex=False , na=False)].copy()\n",
    "tafe_resignations = tafe_survey_updated[tafe_survey_updated['separationtype'] == 'Resignation'].copy()\n",
    "print(\"The number of resignations in the dete survey is : \" ,len(dete_resignations))\n",
    "print(\"The number of resignations in the tafe survey is : \" , len(tafe_resignations))"
   ]
  },
  {
   "cell_type": "markdown",
   "metadata": {},
   "source": [
    "## Resignations\n",
    "We created dataframes that only include the rows were some type of resignation was met for the `dete_survey` or resignation in general for the  `tafe_survey` in the `separationtype` column."
   ]
  },
  {
   "cell_type": "code",
   "execution_count": 9,
   "metadata": {},
   "outputs": [],
   "source": [
    "dete_resignations['cease_date'] = dete_resignations[\"cease_date\"].str.split(\"/\").str[-1].astype('float')\n",
    "dete_resignations[\"institute_service\"] = dete_resignations.cease_date - dete_resignations.dete_start_date.astype('float')"
   ]
  },
  {
   "cell_type": "code",
   "execution_count": 10,
   "metadata": {
    "collapsed": true
   },
   "outputs": [
    {
     "data": {
      "text/plain": [
       "NaN     38\n",
       "5.0     23\n",
       "1.0     22\n",
       "3.0     20\n",
       "0.0     20\n",
       "6.0     17\n",
       "4.0     16\n",
       "9.0     14\n",
       "2.0     14\n",
       "7.0     13\n",
       "13.0     8\n",
       "8.0      8\n",
       "20.0     7\n",
       "15.0     7\n",
       "12.0     6\n",
       "22.0     6\n",
       "17.0     6\n",
       "10.0     6\n",
       "14.0     6\n",
       "16.0     5\n",
       "18.0     5\n",
       "24.0     4\n",
       "23.0     4\n",
       "11.0     4\n",
       "39.0     3\n",
       "32.0     3\n",
       "19.0     3\n",
       "21.0     3\n",
       "36.0     2\n",
       "30.0     2\n",
       "25.0     2\n",
       "28.0     2\n",
       "26.0     2\n",
       "29.0     1\n",
       "42.0     1\n",
       "38.0     1\n",
       "27.0     1\n",
       "41.0     1\n",
       "35.0     1\n",
       "49.0     1\n",
       "34.0     1\n",
       "33.0     1\n",
       "31.0     1\n",
       "Name: institute_service, dtype: int64"
      ]
     },
     "execution_count": 10,
     "metadata": {},
     "output_type": "execute_result"
    }
   ],
   "source": [
    "dete_resignations['institute_service'].value_counts(dropna=False)"
   ]
  },
  {
   "cell_type": "markdown",
   "metadata": {
    "collapsed": true
   },
   "source": [
    "In order to measure the effect of service period on the employe's likeliness to resign we created a column that has values of the period of service in the `dete_updated` DataFrame, luckly the `tafe_updated` didn't need any as it already had a `service` column that contained the information."
   ]
  },
  {
   "cell_type": "code",
   "execution_count": 11,
   "metadata": {},
   "outputs": [
    {
     "name": "stdout",
     "output_type": "stream",
     "text": [
      "Contributing Factors. Dissatisfaction \n",
      " -                                         277\n",
      "Contributing Factors. Dissatisfaction      55\n",
      "NaN                                         8\n",
      "Name: Contributing Factors. Dissatisfaction, dtype: int64\n",
      "\n",
      "\n",
      "Contributing Factors. Job Dissatisfaction \n",
      " -                      270\n",
      "Job Dissatisfaction     62\n",
      "NaN                      8\n",
      "Name: Contributing Factors. Job Dissatisfaction, dtype: int64\n",
      "\n",
      "\n"
     ]
    }
   ],
   "source": [
    "for col in [\"Contributing Factors. Dissatisfaction\" , \"Contributing Factors. Job Dissatisfaction\"]:\n",
    "    print(col,'\\n',tafe_resignations[col].value_counts(dropna=False))\n",
    "    print('\\n')"
   ]
  },
  {
   "cell_type": "code",
   "execution_count": 12,
   "metadata": {},
   "outputs": [],
   "source": [
    "def update_vals(val):\n",
    "    if val == '-':\n",
    "        return False\n",
    "    elif pd.isnull(val):\n",
    "        return np.nan\n",
    "    else:\n",
    "        return True"
   ]
  },
  {
   "cell_type": "code",
   "execution_count": 13,
   "metadata": {},
   "outputs": [],
   "source": [
    "tafe_resignations[[\"Contributing Factors. Dissatisfaction\",\n",
    "                   \"Contributing Factors. Job Dissatisfaction\"]] = tafe_resignations[[\"Contributing Factors. Dissatisfaction\",\n",
    "                   \"Contributing Factors. Job Dissatisfaction\"]].applymap(update_vals)"
   ]
  },
  {
   "cell_type": "code",
   "execution_count": 14,
   "metadata": {},
   "outputs": [],
   "source": [
    "diss_tafe_cols = [\"Contributing Factors. Dissatisfaction\",\n",
    "                   \"Contributing Factors. Job Dissatisfaction\"]\n",
    "diss_dete_cols = [\"job_dissatisfaction\",\n",
    "                 \"dissatisfaction_with_the_department\",\n",
    "                 \"physical_work_environment\",\n",
    "                 \"lack_of_recognition\",\n",
    "                 \"lack_of_job_security\",\n",
    "                 \"work_location\",\n",
    "                 \"employment_conditions\",\n",
    "                 \"work_life_balance\",\n",
    "                 \"workload\"]"
   ]
  },
  {
   "cell_type": "code",
   "execution_count": 15,
   "metadata": {},
   "outputs": [],
   "source": [
    "dete_resignations_up = dete_resignations.copy()\n",
    "tafe_resignations_up = tafe_resignations.copy()"
   ]
  },
  {
   "cell_type": "code",
   "execution_count": 16,
   "metadata": {},
   "outputs": [],
   "source": [
    "tafe_resignations_up[\"dissatisfied\"] = tafe_resignations[diss_tafe_cols].any(axis=1, skipna=False)\n",
    "dete_resignations_up[\"dissatisfied\"] = dete_resignations[diss_dete_cols].any(axis=1, skipna=False)"
   ]
  },
  {
   "cell_type": "code",
   "execution_count": 17,
   "metadata": {},
   "outputs": [
    {
     "name": "stdout",
     "output_type": "stream",
     "text": [
      "tafe resignations columns length :\n",
      " 24\n",
      "----------------------------------------\n",
      "dete resingations columns length :\n",
      " 37\n"
     ]
    }
   ],
   "source": [
    "print(\"tafe resignations columns length :\\n\" , len(tafe_resignations_up.columns))\n",
    "print('-'*40)\n",
    "print(\"dete resingations columns length :\\n\" , len(dete_resignations_up.columns))"
   ]
  },
  {
   "cell_type": "code",
   "execution_count": 28,
   "metadata": {},
   "outputs": [
    {
     "data": {
      "text/plain": [
       "651"
      ]
     },
     "execution_count": 28,
     "metadata": {},
     "output_type": "execute_result"
    }
   ],
   "source": [
    "tafe_resignations_up[\"institute\"] = \"TAFE\"\n",
    "dete_resignations_up[\"institute\"] = \"DETE\"\n",
    "\n",
    "combined = pd.concat([tafe_resignations_up, dete_resignations_up], sort=False)\n",
    "len(combined)"
   ]
  },
  {
   "cell_type": "code",
   "execution_count": 19,
   "metadata": {},
   "outputs": [
    {
     "data": {
      "text/plain": [
       "Index(['age', 'cease_date', 'dissatisfied', 'employment_status', 'gender',\n",
       "       'id', 'institute', 'institute_service', 'position', 'separationtype'],\n",
       "      dtype='object')"
      ]
     },
     "execution_count": 19,
     "metadata": {},
     "output_type": "execute_result"
    }
   ],
   "source": [
    "combined_updated = combined.dropna(thresh=500 , axis=1)\n",
    "combined_updated.columns"
   ]
  },
  {
   "cell_type": "markdown",
   "metadata": {},
   "source": [
    "After thoroughly cleaning both datasets, verifying the quality of the data and finally dropping and creating columns according to our needs, we combined both datasets."
   ]
  },
  {
   "cell_type": "code",
   "execution_count": 20,
   "metadata": {
    "scrolled": true
   },
   "outputs": [
    {
     "data": {
      "text/plain": [
       "Less than 1 year      73\n",
       "1-2                   64\n",
       "3-4                   63\n",
       "5-6                   33\n",
       "11-20                 26\n",
       "5.0                   23\n",
       "1.0                   22\n",
       "7-10                  21\n",
       "3.0                   20\n",
       "0.0                   20\n",
       "6.0                   17\n",
       "4.0                   16\n",
       "9.0                   14\n",
       "2.0                   14\n",
       "7.0                   13\n",
       "More than 20 years    10\n",
       "8.0                    8\n",
       "13.0                   8\n",
       "20.0                   7\n",
       "15.0                   7\n",
       "10.0                   6\n",
       "22.0                   6\n",
       "17.0                   6\n",
       "12.0                   6\n",
       "14.0                   6\n",
       "16.0                   5\n",
       "18.0                   5\n",
       "23.0                   4\n",
       "11.0                   4\n",
       "24.0                   4\n",
       "19.0                   3\n",
       "21.0                   3\n",
       "39.0                   3\n",
       "32.0                   3\n",
       "30.0                   2\n",
       "25.0                   2\n",
       "26.0                   2\n",
       "36.0                   2\n",
       "28.0                   2\n",
       "49.0                   1\n",
       "35.0                   1\n",
       "34.0                   1\n",
       "33.0                   1\n",
       "42.0                   1\n",
       "31.0                   1\n",
       "41.0                   1\n",
       "29.0                   1\n",
       "27.0                   1\n",
       "38.0                   1\n",
       "Name: institute_service, dtype: int64"
      ]
     },
     "execution_count": 20,
     "metadata": {},
     "output_type": "execute_result"
    }
   ],
   "source": [
    "combined_updated.institute_service.value_counts()"
   ]
  },
  {
   "cell_type": "code",
   "execution_count": 21,
   "metadata": {
    "scrolled": true
   },
   "outputs": [
    {
     "name": "stderr",
     "output_type": "stream",
     "text": [
      "/home/default3322/anaconda3/lib/python3.7/site-packages/ipykernel_launcher.py:1: SettingWithCopyWarning: \n",
      "A value is trying to be set on a copy of a slice from a DataFrame.\n",
      "Try using .loc[row_indexer,col_indexer] = value instead\n",
      "\n",
      "See the caveats in the documentation: http://pandas.pydata.org/pandas-docs/stable/indexing.html#indexing-view-versus-copy\n",
      "  \"\"\"Entry point for launching an IPython kernel.\n",
      "/home/default3322/anaconda3/lib/python3.7/site-packages/ipykernel_launcher.py:2: SettingWithCopyWarning: \n",
      "A value is trying to be set on a copy of a slice from a DataFrame.\n",
      "Try using .loc[row_indexer,col_indexer] = value instead\n",
      "\n",
      "See the caveats in the documentation: http://pandas.pydata.org/pandas-docs/stable/indexing.html#indexing-view-versus-copy\n",
      "  \n"
     ]
    },
    {
     "data": {
      "text/plain": [
       "1.0     159\n",
       "3.0      83\n",
       "5.0      56\n",
       "7.0      34\n",
       "11.0     30\n",
       "0.0      20\n",
       "6.0      17\n",
       "20.0     17\n",
       "4.0      16\n",
       "9.0      14\n",
       "2.0      14\n",
       "8.0       8\n",
       "13.0      8\n",
       "15.0      7\n",
       "22.0      6\n",
       "14.0      6\n",
       "17.0      6\n",
       "12.0      6\n",
       "10.0      6\n",
       "18.0      5\n",
       "16.0      5\n",
       "23.0      4\n",
       "24.0      4\n",
       "21.0      3\n",
       "19.0      3\n",
       "32.0      3\n",
       "39.0      3\n",
       "30.0      2\n",
       "26.0      2\n",
       "36.0      2\n",
       "28.0      2\n",
       "25.0      2\n",
       "35.0      1\n",
       "38.0      1\n",
       "34.0      1\n",
       "33.0      1\n",
       "49.0      1\n",
       "41.0      1\n",
       "27.0      1\n",
       "42.0      1\n",
       "29.0      1\n",
       "31.0      1\n",
       "Name: institute_service, dtype: int64"
      ]
     },
     "execution_count": 21,
     "metadata": {},
     "output_type": "execute_result"
    }
   ],
   "source": [
    "combined_updated[\"institute_service\"] = combined_updated.institute_service.astype('str').str.extract(r'(\\d+)' , expand=False)\n",
    "combined_updated[\"institute_service\"] = combined_updated.institute_service.astype('float')\n",
    "combined_updated.institute_service.value_counts()"
   ]
  },
  {
   "cell_type": "code",
   "execution_count": 22,
   "metadata": {},
   "outputs": [],
   "source": [
    "def service_catter(x):\n",
    "    if x < 3:\n",
    "        return 'New'\n",
    "    elif (x < 6) and (x >= 3):\n",
    "        return 'Experienced'\n",
    "    elif (x >= 7) and  (x <= 10):\n",
    "        return 'Established'\n",
    "    elif pd.isnull(x):\n",
    "        return np.nan\n",
    "    else : \n",
    "        return 'Veteran'"
   ]
  },
  {
   "cell_type": "code",
   "execution_count": 23,
   "metadata": {},
   "outputs": [
    {
     "name": "stderr",
     "output_type": "stream",
     "text": [
      "/home/default3322/anaconda3/lib/python3.7/site-packages/ipykernel_launcher.py:1: SettingWithCopyWarning: \n",
      "A value is trying to be set on a copy of a slice from a DataFrame.\n",
      "Try using .loc[row_indexer,col_indexer] = value instead\n",
      "\n",
      "See the caveats in the documentation: http://pandas.pydata.org/pandas-docs/stable/indexing.html#indexing-view-versus-copy\n",
      "  \"\"\"Entry point for launching an IPython kernel.\n"
     ]
    },
    {
     "data": {
      "text/plain": [
       "New            193\n",
       "Experienced    155\n",
       "Veteran        153\n",
       "Established     62\n",
       "Name: service_cat, dtype: int64"
      ]
     },
     "execution_count": 23,
     "metadata": {},
     "output_type": "execute_result"
    }
   ],
   "source": [
    "combined_updated[\"service_cat\"] = combined_updated.institute_service.apply(lambda x : service_catter(x))\n",
    "combined_updated['service_cat'].value_counts()"
   ]
  },
  {
   "cell_type": "code",
   "execution_count": 24,
   "metadata": {},
   "outputs": [
    {
     "data": {
      "text/plain": [
       "False    403\n",
       "True     240\n",
       "NaN        8\n",
       "Name: dissatisfied, dtype: int64"
      ]
     },
     "execution_count": 24,
     "metadata": {},
     "output_type": "execute_result"
    }
   ],
   "source": [
    "combined_updated.dissatisfied.value_counts(dropna = False)"
   ]
  },
  {
   "cell_type": "code",
   "execution_count": 25,
   "metadata": {},
   "outputs": [
    {
     "name": "stderr",
     "output_type": "stream",
     "text": [
      "/home/default3322/anaconda3/lib/python3.7/site-packages/pandas/core/generic.py:6130: SettingWithCopyWarning: \n",
      "A value is trying to be set on a copy of a slice from a DataFrame\n",
      "\n",
      "See the caveats in the documentation: http://pandas.pydata.org/pandas-docs/stable/indexing.html#indexing-view-versus-copy\n",
      "  self._update_inplace(new_data)\n"
     ]
    }
   ],
   "source": [
    "combined_updated['dissatisfied'].fillna(False , inplace = True)"
   ]
  },
  {
   "cell_type": "code",
   "execution_count": 26,
   "metadata": {},
   "outputs": [],
   "source": [
    "pv_dis_ser = combined_updated.pivot_table(index = 'service_cat'\n",
    "                                          ,values = 'dissatisfied')"
   ]
  },
  {
   "cell_type": "code",
   "execution_count": 27,
   "metadata": {},
   "outputs": [
    {
     "data": {
      "text/plain": [
       "<matplotlib.axes._subplots.AxesSubplot at 0x7f9cb65182b0>"
      ]
     },
     "execution_count": 27,
     "metadata": {},
     "output_type": "execute_result"
    },
    {
     "data": {
      "image/png": "[encoded data removed]",
      "text/plain": [
       "<Figure size 432x288 with 1 Axes>"
      ]
     },
     "metadata": {
      "needs_background": "light"
     },
     "output_type": "display_data"
    }
   ],
   "source": [
    "%matplotlib inline\n",
    "pv_dis_ser.plot(kind='bar' , rot=30)"
   ]
  },
  {
   "cell_type": "markdown",
   "metadata": {},
   "source": [
    "From the barplot, we conclude that `Established` employees are the most likely to resign due to some kind of dissatisfaction."
   ]
  },
  {
   "cell_type": "code",
   "execution_count": 29,
   "metadata": {},
   "outputs": [
    {
     "data": {
      "text/plain": [
       "51-55            71\n",
       "41-45            48\n",
       "41  45           45\n",
       "46-50            42\n",
       "36-40            41\n",
       "46  50           39\n",
       "26-30            35\n",
       "21  25           33\n",
       "31  35           32\n",
       "36  40           32\n",
       "26  30           32\n",
       "31-35            29\n",
       "21-25            29\n",
       "56 or older      29\n",
       "56-60            26\n",
       "61 or older      23\n",
       "20 or younger    10\n",
       "Name: age, dtype: int64"
      ]
     },
     "execution_count": 29,
     "metadata": {},
     "output_type": "execute_result"
    }
   ],
   "source": [
    "combined_updated.age.value_counts()"
   ]
  },
  {
   "cell_type": "code",
   "execution_count": 34,
   "metadata": {},
   "outputs": [],
   "source": [
    "combined_updated_ages = combined_updated[\"age\"]\n",
    "combined_updated_ages = combined_updated_ages.astype(\"str\").str.extract(r\"(\\d+)\", expand=False).astype(\"float\")\n",
    "combined_updated[\"clean_age\"] = combined_updated_ages"
   ]
  },
  {
   "cell_type": "markdown",
   "metadata": {},
   "source": [
    "After cleaning the ages of the employees from both surveys we'll set out to find whether being of certain age groups affects whether the employee resigns due to some kind of dissatissfaction."
   ]
  },
  {
   "cell_type": "code",
   "execution_count": 37,
   "metadata": {},
   "outputs": [
    {
     "data": {
      "text/plain": [
       "20.0    10\n",
       "21.0    62\n",
       "26.0    67\n",
       "31.0    61\n",
       "36.0    73\n",
       "41.0    93\n",
       "46.0    81\n",
       "51.0    71\n",
       "56.0    55\n",
       "61.0    23\n",
       "Name: age, dtype: int64"
      ]
     },
     "execution_count": 37,
     "metadata": {},
     "output_type": "execute_result"
    }
   ],
   "source": [
    "combined_updated_ages.value_counts().sort_index()"
   ]
  },
  {
   "cell_type": "code",
   "execution_count": 38,
   "metadata": {},
   "outputs": [],
   "source": [
    "def age_group(age):\n",
    "    if 20 <= age <= 24:\n",
    "        return \"Young Adult\"\n",
    "    elif 25 <= age <= 54 :\n",
    "        return \"Adult\"\n",
    "    elif 55 <= age <= 64 :\n",
    "        return \"Senior\""
   ]
  },
  {
   "cell_type": "markdown",
   "metadata": {},
   "source": [
    "we created a function that helps put employees in age categories accordingly, there are 3 age categories `Young Adult`, `Adult` and `Senior`. The ranges were from the research mentionned below.\n",
    "\n",
    "<a href = 'https://data.oecd.org/emp/employment-rate-by-age-group.htm'>OECD (2019), Employment rate by age group (indicator). doi: 10.1787/084f32c7-en (Accessed on 13 May 2019)"
   ]
  },
  {
   "cell_type": "code",
   "execution_count": 39,
   "metadata": {},
   "outputs": [
    {
     "data": {
      "text/plain": [
       "Adult          446\n",
       "Senior          78\n",
       "Young Adult     72\n",
       "Name: age_cat, dtype: int64"
      ]
     },
     "execution_count": 39,
     "metadata": {},
     "output_type": "execute_result"
    }
   ],
   "source": [
    "combined_updated[\"age_cat\"] = combined_updated[\"clean_age\"].apply(lambda x : age_group(x))\n",
    "combined_updated.age_cat.value_counts()"
   ]
  },
  {
   "cell_type": "code",
   "execution_count": 41,
   "metadata": {},
   "outputs": [
    {
     "data": {
      "text/plain": [
       "<matplotlib.axes._subplots.AxesSubplot at 0x7f9cb61ae4e0>"
      ]
     },
     "execution_count": 41,
     "metadata": {},
     "output_type": "execute_result"
    },
    {
     "data": {
      "image/png": "[encoded data removed]",
      "text/plain": [
       "<Figure size 432x288 with 1 Axes>"
      ]
     },
     "metadata": {
      "needs_background": "light"
     },
     "output_type": "display_data"
    }
   ],
   "source": [
    "age_cat_diss_pv = combined_updated.pivot_table(index = \"age_cat\" , values = \"dissatisfied\")\n",
    "age_cat_diss_pv.plot(kind=\"bar\" , rot=30)"
   ]
  },
  {
   "cell_type": "markdown",
   "metadata": {},
   "source": [
    "Most employees who resign after some kind of dissatisfaction are Senior employees."
   ]
  }
 ],
 "metadata": {
  "kernelspec": {
   "display_name": "Python 3",
   "language": "python",
   "name": "python3"
  },
  "language_info": {
   "codemirror_mode": {
    "name": "ipython",
    "version": 3
   },
   "file_extension": ".py",
   "mimetype": "text/x-python",
   "name": "python",
   "nbconvert_exporter": "python",
   "pygments_lexer": "ipython3",
   "version": "3.7.3"
  }
 },
 "nbformat": 4,
 "nbformat_minor": 2
}
